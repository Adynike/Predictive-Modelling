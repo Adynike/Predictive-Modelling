{
 "cells": [
  {
   "cell_type": "markdown",
   "id": "886af698",
   "metadata": {},
   "source": [
    "#### Libraries"
   ]
  },
  {
   "cell_type": "code",
   "execution_count": 1,
   "id": "4afe03d7",
   "metadata": {},
   "outputs": [],
   "source": [
    "import pandas as pd\n",
    "import numpy as np\n",
    "import matplotlib.pyplot as plt\n",
    "import seaborn as sns\n",
    "from sklearn.model_selection import train_test_split\n",
    "from sklearn.metrics import mean_absolute_error, mean_squared_error, root_mean_squared_error, r2_score"
   ]
  },
  {
   "cell_type": "markdown",
   "id": "2940282b",
   "metadata": {},
   "source": [
    "#### Data Importation"
   ]
  },
  {
   "cell_type": "code",
   "execution_count": 2,
   "id": "ff890020",
   "metadata": {},
   "outputs": [],
   "source": [
    "product_detail = pd.read_csv(r\"C:\\Users\\akann\\OneDrive\\Desktop\\AMDARI\\Project 2 - PREDICTIVE MODELLING\\Predictive Modeling\\Predictive-Modelling\\Datasets\\product_details.csv\")\n",
    "store_info = pd.read_csv(r\"C:\\Users\\akann\\OneDrive\\Desktop\\AMDARI\\Project 2 - PREDICTIVE MODELLING\\Predictive Modeling\\Predictive-Modelling\\Datasets\\store_info.csv\")\n",
    "supplier_info = pd.read_csv(r\"C:\\Users\\akann\\OneDrive\\Desktop\\AMDARI\\Project 2 - PREDICTIVE MODELLING\\Predictive Modeling\\Predictive-Modelling\\Datasets\\supplier_info.csv\")\n",
    "weather_data = pd.read_csv(r\"C:\\Users\\akann\\OneDrive\\Desktop\\AMDARI\\Project 2 - PREDICTIVE MODELLING\\Predictive Modeling\\Predictive-Modelling\\Datasets\\weather_data.csv\")\n",
    "weekly_sales = pd.read_csv(r\"C:\\Users\\akann\\OneDrive\\Desktop\\AMDARI\\Project 2 - PREDICTIVE MODELLING\\Predictive Modeling\\Predictive-Modelling\\Datasets\\weekly_sales.csv\")"
   ]
  },
  {
   "cell_type": "markdown",
   "id": "53a28a3b",
   "metadata": {},
   "source": [
    "##### Data Details"
   ]
  },
  {
   "cell_type": "code",
   "execution_count": 3,
   "id": "d32b60cc",
   "metadata": {},
   "outputs": [
    {
     "data": {
      "text/html": [
       "<div>\n",
       "<style scoped>\n",
       "    .dataframe tbody tr th:only-of-type {\n",
       "        vertical-align: middle;\n",
       "    }\n",
       "\n",
       "    .dataframe tbody tr th {\n",
       "        vertical-align: top;\n",
       "    }\n",
       "\n",
       "    .dataframe thead th {\n",
       "        text-align: right;\n",
       "    }\n",
       "</style>\n",
       "<table border=\"1\" class=\"dataframe\">\n",
       "  <thead>\n",
       "    <tr style=\"text-align: right;\">\n",
       "      <th></th>\n",
       "      <th>Product_ID</th>\n",
       "      <th>Product_Name</th>\n",
       "      <th>Product_Category</th>\n",
       "      <th>Shelf_Life_Days</th>\n",
       "      <th>Supplier_ID</th>\n",
       "    </tr>\n",
       "  </thead>\n",
       "  <tbody>\n",
       "    <tr>\n",
       "      <th>0</th>\n",
       "      <td>1000</td>\n",
       "      <td>Whole Wheat Bread 800g</td>\n",
       "      <td>Bakery</td>\n",
       "      <td>4</td>\n",
       "      <td>4</td>\n",
       "    </tr>\n",
       "    <tr>\n",
       "      <th>1</th>\n",
       "      <td>1001</td>\n",
       "      <td>White Sandwich Loaf</td>\n",
       "      <td>Bakery</td>\n",
       "      <td>2</td>\n",
       "      <td>8</td>\n",
       "    </tr>\n",
       "    <tr>\n",
       "      <th>2</th>\n",
       "      <td>1002</td>\n",
       "      <td>Croissant 4-pack</td>\n",
       "      <td>Bakery</td>\n",
       "      <td>2</td>\n",
       "      <td>5</td>\n",
       "    </tr>\n",
       "    <tr>\n",
       "      <th>3</th>\n",
       "      <td>1003</td>\n",
       "      <td>Blueberry Muffins 6-pack</td>\n",
       "      <td>Bakery</td>\n",
       "      <td>4</td>\n",
       "      <td>10</td>\n",
       "    </tr>\n",
       "    <tr>\n",
       "      <th>4</th>\n",
       "      <td>1004</td>\n",
       "      <td>Chocolate Chip Cookies</td>\n",
       "      <td>Bakery</td>\n",
       "      <td>4</td>\n",
       "      <td>7</td>\n",
       "    </tr>\n",
       "    <tr>\n",
       "      <th>43</th>\n",
       "      <td>1043</td>\n",
       "      <td>English Breakfast Tea 80bags</td>\n",
       "      <td>Beverages</td>\n",
       "      <td>246</td>\n",
       "      <td>9</td>\n",
       "    </tr>\n",
       "    <tr>\n",
       "      <th>44</th>\n",
       "      <td>1044</td>\n",
       "      <td>Sparkling Water 1L</td>\n",
       "      <td>Beverages</td>\n",
       "      <td>186</td>\n",
       "      <td>1</td>\n",
       "    </tr>\n",
       "    <tr>\n",
       "      <th>45</th>\n",
       "      <td>1045</td>\n",
       "      <td>Lemonade 2L</td>\n",
       "      <td>Beverages</td>\n",
       "      <td>356</td>\n",
       "      <td>9</td>\n",
       "    </tr>\n",
       "    <tr>\n",
       "      <th>46</th>\n",
       "      <td>1046</td>\n",
       "      <td>Protein Shake 4-pack</td>\n",
       "      <td>Beverages</td>\n",
       "      <td>158</td>\n",
       "      <td>8</td>\n",
       "    </tr>\n",
       "    <tr>\n",
       "      <th>47</th>\n",
       "      <td>1047</td>\n",
       "      <td>Green Tea 40bags</td>\n",
       "      <td>Beverages</td>\n",
       "      <td>92</td>\n",
       "      <td>3</td>\n",
       "    </tr>\n",
       "  </tbody>\n",
       "</table>\n",
       "</div>"
      ],
      "text/plain": [
       "    Product_ID                  Product_Name Product_Category  \\\n",
       "0         1000        Whole Wheat Bread 800g           Bakery   \n",
       "1         1001           White Sandwich Loaf           Bakery   \n",
       "2         1002              Croissant 4-pack           Bakery   \n",
       "3         1003      Blueberry Muffins 6-pack           Bakery   \n",
       "4         1004        Chocolate Chip Cookies           Bakery   \n",
       "43        1043  English Breakfast Tea 80bags        Beverages   \n",
       "44        1044            Sparkling Water 1L        Beverages   \n",
       "45        1045                   Lemonade 2L        Beverages   \n",
       "46        1046          Protein Shake 4-pack        Beverages   \n",
       "47        1047              Green Tea 40bags        Beverages   \n",
       "\n",
       "    Shelf_Life_Days  Supplier_ID  \n",
       "0                 4            4  \n",
       "1                 2            8  \n",
       "2                 2            5  \n",
       "3                 4           10  \n",
       "4                 4            7  \n",
       "43              246            9  \n",
       "44              186            1  \n",
       "45              356            9  \n",
       "46              158            8  \n",
       "47               92            3  "
      ]
     },
     "execution_count": 3,
     "metadata": {},
     "output_type": "execute_result"
    }
   ],
   "source": [
    "# Product details \n",
    "pd.concat([product_detail.head(), product_detail.tail()])"
   ]
  },
  {
   "cell_type": "code",
   "execution_count": 4,
   "id": "55e6cd36",
   "metadata": {},
   "outputs": [
    {
     "data": {
      "text/html": [
       "<div>\n",
       "<style scoped>\n",
       "    .dataframe tbody tr th:only-of-type {\n",
       "        vertical-align: middle;\n",
       "    }\n",
       "\n",
       "    .dataframe tbody tr th {\n",
       "        vertical-align: top;\n",
       "    }\n",
       "\n",
       "    .dataframe thead th {\n",
       "        text-align: right;\n",
       "    }\n",
       "</style>\n",
       "<table border=\"1\" class=\"dataframe\">\n",
       "  <thead>\n",
       "    <tr style=\"text-align: right;\">\n",
       "      <th></th>\n",
       "      <th>Store_ID</th>\n",
       "      <th>Region</th>\n",
       "      <th>Store_Size</th>\n",
       "      <th>Cold_Storage_Capacity</th>\n",
       "    </tr>\n",
       "  </thead>\n",
       "  <tbody>\n",
       "    <tr>\n",
       "      <th>0</th>\n",
       "      <td>500</td>\n",
       "      <td>London</td>\n",
       "      <td>12000</td>\n",
       "      <td>3788</td>\n",
       "    </tr>\n",
       "    <tr>\n",
       "      <th>1</th>\n",
       "      <td>501</td>\n",
       "      <td>Midlands</td>\n",
       "      <td>5000</td>\n",
       "      <td>1086</td>\n",
       "    </tr>\n",
       "    <tr>\n",
       "      <th>2</th>\n",
       "      <td>502</td>\n",
       "      <td>North East</td>\n",
       "      <td>4000</td>\n",
       "      <td>998</td>\n",
       "    </tr>\n",
       "    <tr>\n",
       "      <th>3</th>\n",
       "      <td>503</td>\n",
       "      <td>Midlands</td>\n",
       "      <td>5000</td>\n",
       "      <td>1243</td>\n",
       "    </tr>\n",
       "    <tr>\n",
       "      <th>4</th>\n",
       "      <td>504</td>\n",
       "      <td>London</td>\n",
       "      <td>10000</td>\n",
       "      <td>3330</td>\n",
       "    </tr>\n",
       "    <tr>\n",
       "      <th>10</th>\n",
       "      <td>510</td>\n",
       "      <td>North East</td>\n",
       "      <td>3000</td>\n",
       "      <td>784</td>\n",
       "    </tr>\n",
       "    <tr>\n",
       "      <th>11</th>\n",
       "      <td>511</td>\n",
       "      <td>South West</td>\n",
       "      <td>3000</td>\n",
       "      <td>634</td>\n",
       "    </tr>\n",
       "    <tr>\n",
       "      <th>12</th>\n",
       "      <td>512</td>\n",
       "      <td>South East</td>\n",
       "      <td>5000</td>\n",
       "      <td>1697</td>\n",
       "    </tr>\n",
       "    <tr>\n",
       "      <th>13</th>\n",
       "      <td>513</td>\n",
       "      <td>South West</td>\n",
       "      <td>4000</td>\n",
       "      <td>1322</td>\n",
       "    </tr>\n",
       "    <tr>\n",
       "      <th>14</th>\n",
       "      <td>514</td>\n",
       "      <td>South West</td>\n",
       "      <td>3000</td>\n",
       "      <td>1001</td>\n",
       "    </tr>\n",
       "  </tbody>\n",
       "</table>\n",
       "</div>"
      ],
      "text/plain": [
       "    Store_ID      Region  Store_Size  Cold_Storage_Capacity\n",
       "0        500      London       12000                   3788\n",
       "1        501    Midlands        5000                   1086\n",
       "2        502  North East        4000                    998\n",
       "3        503    Midlands        5000                   1243\n",
       "4        504      London       10000                   3330\n",
       "10       510  North East        3000                    784\n",
       "11       511  South West        3000                    634\n",
       "12       512  South East        5000                   1697\n",
       "13       513  South West        4000                   1322\n",
       "14       514  South West        3000                   1001"
      ]
     },
     "execution_count": 4,
     "metadata": {},
     "output_type": "execute_result"
    }
   ],
   "source": [
    "# Store_info data\n",
    "pd.concat([store_info.head(), store_info.tail()])"
   ]
  },
  {
   "cell_type": "code",
   "execution_count": 5,
   "id": "c71f876d",
   "metadata": {},
   "outputs": [
    {
     "data": {
      "text/html": [
       "<div>\n",
       "<style scoped>\n",
       "    .dataframe tbody tr th:only-of-type {\n",
       "        vertical-align: middle;\n",
       "    }\n",
       "\n",
       "    .dataframe tbody tr th {\n",
       "        vertical-align: top;\n",
       "    }\n",
       "\n",
       "    .dataframe thead th {\n",
       "        text-align: right;\n",
       "    }\n",
       "</style>\n",
       "<table border=\"1\" class=\"dataframe\">\n",
       "  <thead>\n",
       "    <tr style=\"text-align: right;\">\n",
       "      <th></th>\n",
       "      <th>Supplier_ID</th>\n",
       "      <th>Supplier_Name</th>\n",
       "      <th>Lead_Time_Days</th>\n",
       "      <th>Supply_Capacity</th>\n",
       "    </tr>\n",
       "  </thead>\n",
       "  <tbody>\n",
       "    <tr>\n",
       "      <th>0</th>\n",
       "      <td>1</td>\n",
       "      <td>FreshFoods UK Ltd.</td>\n",
       "      <td>1</td>\n",
       "      <td>68047</td>\n",
       "    </tr>\n",
       "    <tr>\n",
       "      <th>1</th>\n",
       "      <td>2</td>\n",
       "      <td>Quality Provisions Co.</td>\n",
       "      <td>2</td>\n",
       "      <td>35230</td>\n",
       "    </tr>\n",
       "    <tr>\n",
       "      <th>2</th>\n",
       "      <td>3</td>\n",
       "      <td>FarmDirect Suppliers Ltd.</td>\n",
       "      <td>2</td>\n",
       "      <td>71976</td>\n",
       "    </tr>\n",
       "    <tr>\n",
       "      <th>3</th>\n",
       "      <td>4</td>\n",
       "      <td>PremiumGoods Wholesale</td>\n",
       "      <td>3</td>\n",
       "      <td>48776</td>\n",
       "    </tr>\n",
       "    <tr>\n",
       "      <th>4</th>\n",
       "      <td>5</td>\n",
       "      <td>LocalHarvest Distributors</td>\n",
       "      <td>2</td>\n",
       "      <td>11306</td>\n",
       "    </tr>\n",
       "    <tr>\n",
       "      <th>5</th>\n",
       "      <td>6</td>\n",
       "      <td>OrganicChoice Partners</td>\n",
       "      <td>2</td>\n",
       "      <td>31776</td>\n",
       "    </tr>\n",
       "    <tr>\n",
       "      <th>6</th>\n",
       "      <td>7</td>\n",
       "      <td>SwiftDelivery Foods UK</td>\n",
       "      <td>2</td>\n",
       "      <td>59474</td>\n",
       "    </tr>\n",
       "    <tr>\n",
       "      <th>7</th>\n",
       "      <td>8</td>\n",
       "      <td>TrustedSource Provisions</td>\n",
       "      <td>3</td>\n",
       "      <td>46959</td>\n",
       "    </tr>\n",
       "    <tr>\n",
       "      <th>8</th>\n",
       "      <td>9</td>\n",
       "      <td>GreenValley Suppliers</td>\n",
       "      <td>3</td>\n",
       "      <td>54320</td>\n",
       "    </tr>\n",
       "    <tr>\n",
       "      <th>9</th>\n",
       "      <td>10</td>\n",
       "      <td>BestQuality Foods Ltd.</td>\n",
       "      <td>2</td>\n",
       "      <td>53748</td>\n",
       "    </tr>\n",
       "  </tbody>\n",
       "</table>\n",
       "</div>"
      ],
      "text/plain": [
       "   Supplier_ID              Supplier_Name  Lead_Time_Days  Supply_Capacity\n",
       "0            1         FreshFoods UK Ltd.               1            68047\n",
       "1            2     Quality Provisions Co.               2            35230\n",
       "2            3  FarmDirect Suppliers Ltd.               2            71976\n",
       "3            4     PremiumGoods Wholesale               3            48776\n",
       "4            5  LocalHarvest Distributors               2            11306\n",
       "5            6     OrganicChoice Partners               2            31776\n",
       "6            7     SwiftDelivery Foods UK               2            59474\n",
       "7            8   TrustedSource Provisions               3            46959\n",
       "8            9      GreenValley Suppliers               3            54320\n",
       "9           10     BestQuality Foods Ltd.               2            53748"
      ]
     },
     "execution_count": 5,
     "metadata": {},
     "output_type": "execute_result"
    }
   ],
   "source": [
    "# Supplier_info data\n",
    "pd.concat([supplier_info.head(), supplier_info.tail()])"
   ]
  },
  {
   "cell_type": "code",
   "execution_count": 6,
   "id": "11aee2e7",
   "metadata": {},
   "outputs": [
    {
     "data": {
      "text/html": [
       "<div>\n",
       "<style scoped>\n",
       "    .dataframe tbody tr th:only-of-type {\n",
       "        vertical-align: middle;\n",
       "    }\n",
       "\n",
       "    .dataframe tbody tr th {\n",
       "        vertical-align: top;\n",
       "    }\n",
       "\n",
       "    .dataframe thead th {\n",
       "        text-align: right;\n",
       "    }\n",
       "</style>\n",
       "<table border=\"1\" class=\"dataframe\">\n",
       "  <thead>\n",
       "    <tr style=\"text-align: right;\">\n",
       "      <th></th>\n",
       "      <th>Week_Number</th>\n",
       "      <th>Region</th>\n",
       "      <th>Avg_Temperature</th>\n",
       "      <th>Rainfall</th>\n",
       "      <th>Holiday_Flag</th>\n",
       "    </tr>\n",
       "  </thead>\n",
       "  <tbody>\n",
       "    <tr>\n",
       "      <th>0</th>\n",
       "      <td>2024-W01</td>\n",
       "      <td>Midlands</td>\n",
       "      <td>7.4</td>\n",
       "      <td>32.1</td>\n",
       "      <td>0</td>\n",
       "    </tr>\n",
       "    <tr>\n",
       "      <th>1</th>\n",
       "      <td>2024-W01</td>\n",
       "      <td>South East</td>\n",
       "      <td>10.5</td>\n",
       "      <td>15.7</td>\n",
       "      <td>0</td>\n",
       "    </tr>\n",
       "    <tr>\n",
       "      <th>2</th>\n",
       "      <td>2024-W01</td>\n",
       "      <td>North West</td>\n",
       "      <td>6.8</td>\n",
       "      <td>28.5</td>\n",
       "      <td>1</td>\n",
       "    </tr>\n",
       "    <tr>\n",
       "      <th>3</th>\n",
       "      <td>2024-W01</td>\n",
       "      <td>London</td>\n",
       "      <td>9.9</td>\n",
       "      <td>23.0</td>\n",
       "      <td>1</td>\n",
       "    </tr>\n",
       "    <tr>\n",
       "      <th>4</th>\n",
       "      <td>2024-W01</td>\n",
       "      <td>South West</td>\n",
       "      <td>10.0</td>\n",
       "      <td>45.9</td>\n",
       "      <td>1</td>\n",
       "    </tr>\n",
       "    <tr>\n",
       "      <th>359</th>\n",
       "      <td>2024-W52</td>\n",
       "      <td>North West</td>\n",
       "      <td>7.4</td>\n",
       "      <td>17.2</td>\n",
       "      <td>1</td>\n",
       "    </tr>\n",
       "    <tr>\n",
       "      <th>360</th>\n",
       "      <td>2024-W52</td>\n",
       "      <td>London</td>\n",
       "      <td>11.6</td>\n",
       "      <td>10.4</td>\n",
       "      <td>1</td>\n",
       "    </tr>\n",
       "    <tr>\n",
       "      <th>361</th>\n",
       "      <td>2024-W52</td>\n",
       "      <td>South West</td>\n",
       "      <td>8.7</td>\n",
       "      <td>16.2</td>\n",
       "      <td>1</td>\n",
       "    </tr>\n",
       "    <tr>\n",
       "      <th>362</th>\n",
       "      <td>2024-W52</td>\n",
       "      <td>North East</td>\n",
       "      <td>5.2</td>\n",
       "      <td>19.2</td>\n",
       "      <td>1</td>\n",
       "    </tr>\n",
       "    <tr>\n",
       "      <th>363</th>\n",
       "      <td>2024-W52</td>\n",
       "      <td>Wales</td>\n",
       "      <td>9.6</td>\n",
       "      <td>12.8</td>\n",
       "      <td>1</td>\n",
       "    </tr>\n",
       "  </tbody>\n",
       "</table>\n",
       "</div>"
      ],
      "text/plain": [
       "    Week_Number      Region  Avg_Temperature  Rainfall  Holiday_Flag\n",
       "0      2024-W01    Midlands              7.4      32.1             0\n",
       "1      2024-W01  South East             10.5      15.7             0\n",
       "2      2024-W01  North West              6.8      28.5             1\n",
       "3      2024-W01      London              9.9      23.0             1\n",
       "4      2024-W01  South West             10.0      45.9             1\n",
       "359    2024-W52  North West              7.4      17.2             1\n",
       "360    2024-W52      London             11.6      10.4             1\n",
       "361    2024-W52  South West              8.7      16.2             1\n",
       "362    2024-W52  North East              5.2      19.2             1\n",
       "363    2024-W52       Wales              9.6      12.8             1"
      ]
     },
     "execution_count": 6,
     "metadata": {},
     "output_type": "execute_result"
    }
   ],
   "source": [
    "# Weather data\n",
    "pd.concat([weather_data.head(), weather_data.tail()])"
   ]
  },
  {
   "cell_type": "code",
   "execution_count": 7,
   "id": "bc36ee64",
   "metadata": {},
   "outputs": [
    {
     "data": {
      "text/html": [
       "<div>\n",
       "<style scoped>\n",
       "    .dataframe tbody tr th:only-of-type {\n",
       "        vertical-align: middle;\n",
       "    }\n",
       "\n",
       "    .dataframe tbody tr th {\n",
       "        vertical-align: top;\n",
       "    }\n",
       "\n",
       "    .dataframe thead th {\n",
       "        text-align: right;\n",
       "    }\n",
       "</style>\n",
       "<table border=\"1\" class=\"dataframe\">\n",
       "  <thead>\n",
       "    <tr style=\"text-align: right;\">\n",
       "      <th></th>\n",
       "      <th>Week_Number</th>\n",
       "      <th>Product_ID</th>\n",
       "      <th>Store_ID</th>\n",
       "      <th>Units_Sold</th>\n",
       "      <th>Marketing_Spend</th>\n",
       "      <th>Discount_Percent</th>\n",
       "      <th>Wastage_Units</th>\n",
       "      <th>Price</th>\n",
       "    </tr>\n",
       "  </thead>\n",
       "  <tbody>\n",
       "    <tr>\n",
       "      <th>0</th>\n",
       "      <td>2024-W01</td>\n",
       "      <td>1000</td>\n",
       "      <td>500</td>\n",
       "      <td>4853</td>\n",
       "      <td>670.37</td>\n",
       "      <td>0</td>\n",
       "      <td>718</td>\n",
       "      <td>2.46</td>\n",
       "    </tr>\n",
       "    <tr>\n",
       "      <th>1</th>\n",
       "      <td>2024-W01</td>\n",
       "      <td>1001</td>\n",
       "      <td>500</td>\n",
       "      <td>4274</td>\n",
       "      <td>1089.62</td>\n",
       "      <td>0</td>\n",
       "      <td>641</td>\n",
       "      <td>1.27</td>\n",
       "    </tr>\n",
       "    <tr>\n",
       "      <th>2</th>\n",
       "      <td>2024-W01</td>\n",
       "      <td>1002</td>\n",
       "      <td>500</td>\n",
       "      <td>4215</td>\n",
       "      <td>1004.99</td>\n",
       "      <td>10</td>\n",
       "      <td>632</td>\n",
       "      <td>2.74</td>\n",
       "    </tr>\n",
       "    <tr>\n",
       "      <th>3</th>\n",
       "      <td>2024-W01</td>\n",
       "      <td>1003</td>\n",
       "      <td>500</td>\n",
       "      <td>5768</td>\n",
       "      <td>859.45</td>\n",
       "      <td>20</td>\n",
       "      <td>853</td>\n",
       "      <td>1.82</td>\n",
       "    </tr>\n",
       "    <tr>\n",
       "      <th>4</th>\n",
       "      <td>2024-W01</td>\n",
       "      <td>1004</td>\n",
       "      <td>500</td>\n",
       "      <td>3403</td>\n",
       "      <td>576.70</td>\n",
       "      <td>0</td>\n",
       "      <td>503</td>\n",
       "      <td>3.46</td>\n",
       "    </tr>\n",
       "    <tr>\n",
       "      <th>37435</th>\n",
       "      <td>2024-W52</td>\n",
       "      <td>1043</td>\n",
       "      <td>514</td>\n",
       "      <td>895</td>\n",
       "      <td>488.97</td>\n",
       "      <td>15</td>\n",
       "      <td>22</td>\n",
       "      <td>1.62</td>\n",
       "    </tr>\n",
       "    <tr>\n",
       "      <th>37436</th>\n",
       "      <td>2024-W52</td>\n",
       "      <td>1044</td>\n",
       "      <td>514</td>\n",
       "      <td>1558</td>\n",
       "      <td>657.76</td>\n",
       "      <td>10</td>\n",
       "      <td>38</td>\n",
       "      <td>5.05</td>\n",
       "    </tr>\n",
       "    <tr>\n",
       "      <th>37437</th>\n",
       "      <td>2024-W52</td>\n",
       "      <td>1045</td>\n",
       "      <td>514</td>\n",
       "      <td>993</td>\n",
       "      <td>442.56</td>\n",
       "      <td>0</td>\n",
       "      <td>24</td>\n",
       "      <td>5.72</td>\n",
       "    </tr>\n",
       "    <tr>\n",
       "      <th>37438</th>\n",
       "      <td>2024-W52</td>\n",
       "      <td>1046</td>\n",
       "      <td>514</td>\n",
       "      <td>2168</td>\n",
       "      <td>1502.52</td>\n",
       "      <td>25</td>\n",
       "      <td>54</td>\n",
       "      <td>3.82</td>\n",
       "    </tr>\n",
       "    <tr>\n",
       "      <th>37439</th>\n",
       "      <td>2024-W52</td>\n",
       "      <td>1047</td>\n",
       "      <td>514</td>\n",
       "      <td>658</td>\n",
       "      <td>940.83</td>\n",
       "      <td>0</td>\n",
       "      <td>16</td>\n",
       "      <td>4.37</td>\n",
       "    </tr>\n",
       "  </tbody>\n",
       "</table>\n",
       "</div>"
      ],
      "text/plain": [
       "      Week_Number  Product_ID  Store_ID  Units_Sold  Marketing_Spend  \\\n",
       "0        2024-W01        1000       500        4853           670.37   \n",
       "1        2024-W01        1001       500        4274          1089.62   \n",
       "2        2024-W01        1002       500        4215          1004.99   \n",
       "3        2024-W01        1003       500        5768           859.45   \n",
       "4        2024-W01        1004       500        3403           576.70   \n",
       "37435    2024-W52        1043       514         895           488.97   \n",
       "37436    2024-W52        1044       514        1558           657.76   \n",
       "37437    2024-W52        1045       514         993           442.56   \n",
       "37438    2024-W52        1046       514        2168          1502.52   \n",
       "37439    2024-W52        1047       514         658           940.83   \n",
       "\n",
       "       Discount_Percent  Wastage_Units  Price  \n",
       "0                     0            718   2.46  \n",
       "1                     0            641   1.27  \n",
       "2                    10            632   2.74  \n",
       "3                    20            853   1.82  \n",
       "4                     0            503   3.46  \n",
       "37435                15             22   1.62  \n",
       "37436                10             38   5.05  \n",
       "37437                 0             24   5.72  \n",
       "37438                25             54   3.82  \n",
       "37439                 0             16   4.37  "
      ]
     },
     "execution_count": 7,
     "metadata": {},
     "output_type": "execute_result"
    }
   ],
   "source": [
    "# Weekly sales data\n",
    "pd.concat([weekly_sales.head(), weekly_sales.tail()])"
   ]
  },
  {
   "cell_type": "markdown",
   "id": "3776e9dc",
   "metadata": {},
   "source": [
    "#### Exploratory Data Analysis Stage 1"
   ]
  },
  {
   "cell_type": "code",
   "execution_count": 8,
   "id": "2e7baa75",
   "metadata": {},
   "outputs": [],
   "source": [
    "def Eda_Stage_1(data, name):\n",
    "  print(\"=\"*100)\n",
    "  print(f\"{name} dataset information\")\n",
    "  print(data.info())\n",
    "  print(\"=\"*100)\n",
    "  print(f\"{name} dataset shape\")\n",
    "  print(data.shape)\n",
    "  print(\"=\"*100)\n",
    "  print(f\"{name} dataset description\")\n",
    "  print(data.describe())\n",
    "  print(\"=\"*100)\n",
    "  print(f\"{name} dataset columns\")\n",
    "  print(data.columns)\n",
    "  print(\"=\"*100)\n",
    "  print(f\"{name} dataset missing values\")\n",
    "  print(data.isna().sum())\n",
    "  print(\"=\"*100)\n",
    "  print(f\"{name} dataset duplicate values\")\n",
    "  print(data.duplicated().sum())"
   ]
  },
  {
   "cell_type": "markdown",
   "id": "72cfab8d",
   "metadata": {},
   "source": [
    "##### Product Details"
   ]
  },
  {
   "cell_type": "code",
   "execution_count": 9,
   "id": "21baa1db",
   "metadata": {},
   "outputs": [
    {
     "name": "stdout",
     "output_type": "stream",
     "text": [
      "====================================================================================================\n",
      "product_detail dataset information\n",
      "<class 'pandas.core.frame.DataFrame'>\n",
      "RangeIndex: 48 entries, 0 to 47\n",
      "Data columns (total 5 columns):\n",
      " #   Column            Non-Null Count  Dtype \n",
      "---  ------            --------------  ----- \n",
      " 0   Product_ID        48 non-null     int64 \n",
      " 1   Product_Name      48 non-null     object\n",
      " 2   Product_Category  48 non-null     object\n",
      " 3   Shelf_Life_Days   48 non-null     int64 \n",
      " 4   Supplier_ID       48 non-null     int64 \n",
      "dtypes: int64(3), object(2)\n",
      "memory usage: 2.0+ KB\n",
      "None\n",
      "====================================================================================================\n",
      "product_detail dataset shape\n",
      "(48, 5)\n",
      "====================================================================================================\n",
      "product_detail dataset description\n",
      "       Product_ID  Shelf_Life_Days  Supplier_ID\n",
      "count       48.00        48.000000    48.000000\n",
      "mean      1023.50        59.916667     5.958333\n",
      "std         14.00        99.226333     2.782608\n",
      "min       1000.00         2.000000     1.000000\n",
      "25%       1011.75         4.000000     4.000000\n",
      "50%       1023.50         7.500000     6.000000\n",
      "75%       1035.25        36.250000     8.000000\n",
      "max       1047.00       356.000000    10.000000\n",
      "====================================================================================================\n",
      "product_detail dataset columns\n",
      "Index(['Product_ID', 'Product_Name', 'Product_Category', 'Shelf_Life_Days',\n",
      "       'Supplier_ID'],\n",
      "      dtype='object')\n",
      "====================================================================================================\n",
      "product_detail dataset missing values\n",
      "Product_ID          0\n",
      "Product_Name        0\n",
      "Product_Category    0\n",
      "Shelf_Life_Days     0\n",
      "Supplier_ID         0\n",
      "dtype: int64\n",
      "====================================================================================================\n",
      "product_detail dataset duplicate values\n",
      "0\n"
     ]
    }
   ],
   "source": [
    "Eda_Stage_1(product_detail, \"product_detail\")"
   ]
  },
  {
   "cell_type": "markdown",
   "id": "8a95f39a",
   "metadata": {},
   "source": [
    "##### Store Info"
   ]
  },
  {
   "cell_type": "code",
   "execution_count": 10,
   "id": "fb3fefcd",
   "metadata": {},
   "outputs": [
    {
     "name": "stdout",
     "output_type": "stream",
     "text": [
      "====================================================================================================\n",
      "store_info dataset information\n",
      "<class 'pandas.core.frame.DataFrame'>\n",
      "RangeIndex: 15 entries, 0 to 14\n",
      "Data columns (total 4 columns):\n",
      " #   Column                 Non-Null Count  Dtype \n",
      "---  ------                 --------------  ----- \n",
      " 0   Store_ID               15 non-null     int64 \n",
      " 1   Region                 15 non-null     object\n",
      " 2   Store_Size             15 non-null     int64 \n",
      " 3   Cold_Storage_Capacity  15 non-null     int64 \n",
      "dtypes: int64(3), object(1)\n",
      "memory usage: 612.0+ bytes\n",
      "None\n",
      "====================================================================================================\n",
      "store_info dataset shape\n",
      "(15, 4)\n",
      "====================================================================================================\n",
      "store_info dataset description\n",
      "         Store_ID    Store_Size  Cold_Storage_Capacity\n",
      "count   15.000000     15.000000              15.000000\n",
      "mean   507.000000   5333.333333            1527.066667\n",
      "std      4.472136   2894.987458             965.651628\n",
      "min    500.000000   3000.000000             634.000000\n",
      "25%    503.500000   3500.000000             999.500000\n",
      "50%    507.000000   4000.000000            1086.000000\n",
      "75%    510.500000   5000.000000            1509.500000\n",
      "max    514.000000  12000.000000            3788.000000\n",
      "====================================================================================================\n",
      "store_info dataset columns\n",
      "Index(['Store_ID', 'Region', 'Store_Size', 'Cold_Storage_Capacity'], dtype='object')\n",
      "====================================================================================================\n",
      "store_info dataset missing values\n",
      "Store_ID                 0\n",
      "Region                   0\n",
      "Store_Size               0\n",
      "Cold_Storage_Capacity    0\n",
      "dtype: int64\n",
      "====================================================================================================\n",
      "store_info dataset duplicate values\n",
      "0\n"
     ]
    }
   ],
   "source": [
    "Eda_Stage_1(store_info, \"store_info\")"
   ]
  },
  {
   "cell_type": "markdown",
   "id": "9eb55447",
   "metadata": {},
   "source": [
    "##### Suplier Info"
   ]
  },
  {
   "cell_type": "code",
   "execution_count": 11,
   "id": "adf0567e",
   "metadata": {},
   "outputs": [
    {
     "name": "stdout",
     "output_type": "stream",
     "text": [
      "====================================================================================================\n",
      "supplier_info dataset information\n",
      "<class 'pandas.core.frame.DataFrame'>\n",
      "RangeIndex: 10 entries, 0 to 9\n",
      "Data columns (total 4 columns):\n",
      " #   Column           Non-Null Count  Dtype \n",
      "---  ------           --------------  ----- \n",
      " 0   Supplier_ID      10 non-null     int64 \n",
      " 1   Supplier_Name    10 non-null     object\n",
      " 2   Lead_Time_Days   10 non-null     int64 \n",
      " 3   Supply_Capacity  10 non-null     int64 \n",
      "dtypes: int64(3), object(1)\n",
      "memory usage: 452.0+ bytes\n",
      "None\n",
      "====================================================================================================\n",
      "supplier_info dataset shape\n",
      "(10, 4)\n",
      "====================================================================================================\n",
      "supplier_info dataset description\n",
      "       Supplier_ID  Lead_Time_Days  Supply_Capacity\n",
      "count     10.00000       10.000000        10.000000\n",
      "mean       5.50000        2.200000     48161.200000\n",
      "std        3.02765        0.632456     18121.601841\n",
      "min        1.00000        1.000000     11306.000000\n",
      "25%        3.25000        2.000000     38162.250000\n",
      "50%        5.50000        2.000000     51262.000000\n",
      "75%        7.75000        2.750000     58185.500000\n",
      "max       10.00000        3.000000     71976.000000\n",
      "====================================================================================================\n",
      "supplier_info dataset columns\n",
      "Index(['Supplier_ID', 'Supplier_Name', 'Lead_Time_Days', 'Supply_Capacity'], dtype='object')\n",
      "====================================================================================================\n",
      "supplier_info dataset missing values\n",
      "Supplier_ID        0\n",
      "Supplier_Name      0\n",
      "Lead_Time_Days     0\n",
      "Supply_Capacity    0\n",
      "dtype: int64\n",
      "====================================================================================================\n",
      "supplier_info dataset duplicate values\n",
      "0\n"
     ]
    }
   ],
   "source": [
    "Eda_Stage_1(supplier_info, \"supplier_info\")"
   ]
  },
  {
   "cell_type": "markdown",
   "id": "805e092b",
   "metadata": {},
   "source": [
    "##### Weather Data"
   ]
  },
  {
   "cell_type": "code",
   "execution_count": 12,
   "id": "f5af4f73",
   "metadata": {},
   "outputs": [
    {
     "name": "stdout",
     "output_type": "stream",
     "text": [
      "====================================================================================================\n",
      "weather_data dataset information\n",
      "<class 'pandas.core.frame.DataFrame'>\n",
      "RangeIndex: 364 entries, 0 to 363\n",
      "Data columns (total 5 columns):\n",
      " #   Column           Non-Null Count  Dtype  \n",
      "---  ------           --------------  -----  \n",
      " 0   Week_Number      364 non-null    object \n",
      " 1   Region           364 non-null    object \n",
      " 2   Avg_Temperature  364 non-null    float64\n",
      " 3   Rainfall         364 non-null    float64\n",
      " 4   Holiday_Flag     364 non-null    int64  \n",
      "dtypes: float64(2), int64(1), object(2)\n",
      "memory usage: 14.3+ KB\n",
      "None\n",
      "====================================================================================================\n",
      "weather_data dataset shape\n",
      "(364, 5)\n",
      "====================================================================================================\n",
      "weather_data dataset description\n",
      "       Avg_Temperature    Rainfall  Holiday_Flag\n",
      "count       364.000000  364.000000    364.000000\n",
      "mean         10.015110   20.847253      0.148352\n",
      "std           6.136098   10.459884      0.355937\n",
      "min          -2.000000    6.600000      0.000000\n",
      "25%           4.500000   12.550000      0.000000\n",
      "50%           9.700000   18.600000      0.000000\n",
      "75%          15.525000   27.825000      0.000000\n",
      "max          22.000000   58.300000      1.000000\n",
      "====================================================================================================\n",
      "weather_data dataset columns\n",
      "Index(['Week_Number', 'Region', 'Avg_Temperature', 'Rainfall', 'Holiday_Flag'], dtype='object')\n",
      "====================================================================================================\n",
      "weather_data dataset missing values\n",
      "Week_Number        0\n",
      "Region             0\n",
      "Avg_Temperature    0\n",
      "Rainfall           0\n",
      "Holiday_Flag       0\n",
      "dtype: int64\n",
      "====================================================================================================\n",
      "weather_data dataset duplicate values\n",
      "0\n"
     ]
    }
   ],
   "source": [
    "Eda_Stage_1(weather_data, \"weather_data\")"
   ]
  },
  {
   "cell_type": "markdown",
   "id": "224b295b",
   "metadata": {},
   "source": [
    "##### Weekly Sales"
   ]
  },
  {
   "cell_type": "code",
   "execution_count": 13,
   "id": "e51cc35c",
   "metadata": {},
   "outputs": [
    {
     "name": "stdout",
     "output_type": "stream",
     "text": [
      "====================================================================================================\n",
      "weekly_sales dataset information\n",
      "<class 'pandas.core.frame.DataFrame'>\n",
      "RangeIndex: 37440 entries, 0 to 37439\n",
      "Data columns (total 8 columns):\n",
      " #   Column            Non-Null Count  Dtype  \n",
      "---  ------            --------------  -----  \n",
      " 0   Week_Number       37440 non-null  object \n",
      " 1   Product_ID        37440 non-null  int64  \n",
      " 2   Store_ID          37440 non-null  int64  \n",
      " 3   Units_Sold        37440 non-null  int64  \n",
      " 4   Marketing_Spend   37440 non-null  float64\n",
      " 5   Discount_Percent  37440 non-null  int64  \n",
      " 6   Wastage_Units     37440 non-null  int64  \n",
      " 7   Price             37440 non-null  float64\n",
      "dtypes: float64(2), int64(5), object(1)\n",
      "memory usage: 2.3+ MB\n",
      "None\n",
      "====================================================================================================\n",
      "weekly_sales dataset shape\n",
      "(37440, 8)\n",
      "====================================================================================================\n",
      "weekly_sales dataset description\n",
      "         Product_ID      Store_ID    Units_Sold  Marketing_Spend  \\\n",
      "count  37440.000000  37440.000000  37440.000000     37440.000000   \n",
      "mean    1023.500000    507.000000   1642.154087       410.551195   \n",
      "std       13.853584      4.320551   1166.477872       239.093420   \n",
      "min     1000.000000    500.000000    194.000000       100.030000   \n",
      "25%     1011.750000    503.000000    799.000000       242.672500   \n",
      "50%     1023.500000    507.000000   1344.000000       348.630000   \n",
      "75%     1035.250000    511.000000   2131.000000       549.070000   \n",
      "max     1047.000000    514.000000  10413.000000      1972.700000   \n",
      "\n",
      "       Discount_Percent  Wastage_Units         Price  \n",
      "count      37440.000000   37440.000000  37440.000000  \n",
      "mean           2.896234     127.844284      4.162083  \n",
      "std            6.154093     130.960266      2.641350  \n",
      "min            0.000000       6.000000      0.420000  \n",
      "25%            0.000000      42.000000      2.160000  \n",
      "50%            0.000000      83.000000      3.480000  \n",
      "75%            0.000000     167.000000      5.560000  \n",
      "max           25.000000    1541.000000     12.000000  \n",
      "====================================================================================================\n",
      "weekly_sales dataset columns\n",
      "Index(['Week_Number', 'Product_ID', 'Store_ID', 'Units_Sold',\n",
      "       'Marketing_Spend', 'Discount_Percent', 'Wastage_Units', 'Price'],\n",
      "      dtype='object')\n",
      "====================================================================================================\n",
      "weekly_sales dataset missing values\n",
      "Week_Number         0\n",
      "Product_ID          0\n",
      "Store_ID            0\n",
      "Units_Sold          0\n",
      "Marketing_Spend     0\n",
      "Discount_Percent    0\n",
      "Wastage_Units       0\n",
      "Price               0\n",
      "dtype: int64\n",
      "====================================================================================================\n",
      "weekly_sales dataset duplicate values\n",
      "0\n"
     ]
    }
   ],
   "source": [
    "Eda_Stage_1(weekly_sales, \"weekly_sales\")"
   ]
  },
  {
   "cell_type": "markdown",
   "id": "5f254920",
   "metadata": {},
   "source": [
    "#### Exploratory Data Analysis Stage 2"
   ]
  },
  {
   "cell_type": "code",
   "execution_count": 14,
   "id": "fa13052a",
   "metadata": {},
   "outputs": [
    {
     "data": {
      "text/plain": [
       "Product_Category\n",
       "Bakery       12\n",
       "Meat         12\n",
       "Dairy        12\n",
       "Beverages    12\n",
       "Name: count, dtype: int64"
      ]
     },
     "execution_count": 14,
     "metadata": {},
     "output_type": "execute_result"
    }
   ],
   "source": [
    "(product_detail['Product_Category'].value_counts())"
   ]
  },
  {
   "cell_type": "code",
   "execution_count": 15,
   "id": "0d0d0273",
   "metadata": {},
   "outputs": [
    {
     "name": "stdout",
     "output_type": "stream",
     "text": [
      "we have total number of 48 product in the store\n",
      "we have the total number of 4 products type in the store\n"
     ]
    }
   ],
   "source": [
    "print(f\"we have total number of {len(product_detail)} product in the store\")\n",
    "print(f\"we have the total number of {len(product_detail['Product_Category'].value_counts())} products type in the store\")"
   ]
  },
  {
   "cell_type": "code",
   "execution_count": 16,
   "id": "f80ed3f2",
   "metadata": {},
   "outputs": [
    {
     "name": "stdout",
     "output_type": "stream",
     "text": [
      "The sales for 52 weeks is: 37440\n",
      "The total number of units sold in 364 days is 61,482,249\n",
      "The total number of units wasted or expired unit in 364 days is 4,786,490\n",
      "The average number of wasted units is 1642.15\n",
      "The average number of wasted units is 127.844284\n"
     ]
    }
   ],
   "source": [
    "# Based on all the regions\n",
    "print(f\"The sales for 52 weeks is: {len(weekly_sales)}\")\n",
    "print(f\"The total number of units sold in {len(weather_data)} days is {weekly_sales['Units_Sold'].sum():,}\")\n",
    "print(f\"The total number of units wasted or expired unit in {len(weather_data)} days is {weekly_sales['Wastage_Units'].sum():,}\")\n",
    "print(f\"The average number of wasted units is {weekly_sales['Units_Sold'].mean():.2f}\")\n",
    "print(f\"The average number of wasted units is {weekly_sales['Wastage_Units'].mean():2f}\")"
   ]
  },
  {
   "cell_type": "markdown",
   "id": "85fd3c34",
   "metadata": {},
   "source": [
    "#### Regional Store Distribution - BAR CHARTS"
   ]
  },
  {
   "cell_type": "code",
   "execution_count": 17,
   "id": "ded1bb86",
   "metadata": {},
   "outputs": [
    {
     "data": {
      "text/plain": [
       "Region\n",
       "South West    4\n",
       "London        3\n",
       "Midlands      3\n",
       "North East    2\n",
       "North West    2\n",
       "South East    1\n",
       "Name: count, dtype: int64"
      ]
     },
     "execution_count": 17,
     "metadata": {},
     "output_type": "execute_result"
    }
   ],
   "source": [
    "store_info['Region'].value_counts()"
   ]
  },
  {
   "cell_type": "markdown",
   "id": "0e3c4fb0",
   "metadata": {},
   "source": [
    "#### Sales Performance by Region"
   ]
  },
  {
   "cell_type": "code",
   "execution_count": 18,
   "id": "8646afcf",
   "metadata": {},
   "outputs": [
    {
     "data": {
      "text/plain": [
       "Text(0, 0.5, 'Wastage Units')"
      ]
     },
     "execution_count": 18,
     "metadata": {},
     "output_type": "execute_result"
    },
    {
     "data": {
      "image/png": "[encoded data removed]",
      "text/plain": [
       "<Figure size 1500x1200 with 4 Axes>"
      ]
     },
     "metadata": {},
     "output_type": "display_data"
    }
   ],
   "source": [
    "plt.figure(figsize=(15, 12))\n",
    "\n",
    "# Number of stores in each region\n",
    "plt.subplot(2, 2, 1)\n",
    "region_store_counts = store_info['Region'].value_counts()\n",
    "sns.barplot(x=region_store_counts.index, y=region_store_counts.values)\n",
    "plt.title(\"Number of Stores in each Region\")\n",
    "plt.xlabel(\"Region\")\n",
    "plt.ylabel(\"Number of Stores\")\n",
    "\n",
    "# Average store size per region\n",
    "plt.subplot(2, 2, 2)\n",
    "store_size_by_region = store_info.groupby('Region')['Store_Size'].mean()\n",
    "sns.barplot(x=store_size_by_region.index, y=store_size_by_region.values)\n",
    "plt.title(\"Average store size per Region\")\n",
    "plt.xlabel(\"Region\")\n",
    "plt.ylabel(\"Average store size per sq ft\")\n",
    "\n",
    "# Sales performance per region\n",
    "plt.subplot(2, 2, 3)\n",
    "region_sales = weekly_sales.merge(store_info, on=\"Store_ID\")\n",
    "store_region_performance = region_sales.groupby('Region')['Units_Sold'].sum().sort_values(ascending=False)\n",
    "sns.barplot(x=store_region_performance.index, y=store_region_performance.values)\n",
    "plt.title(\"Sales Performance per Region\")\n",
    "plt.xlabel(\"Region\")\n",
    "plt.ylabel(\"Units sold\")\n",
    "\n",
    "# Wastage rate per region\n",
    "plt.subplot(2, 2, 4)\n",
    "goods_wastage_by_region = region_sales.groupby('Region')['Wastage_Units'].sum().sort_values(ascending=False)\n",
    "sns.barplot(x=goods_wastage_by_region.index, y=goods_wastage_by_region.values)\n",
    "plt.title(\"Wastage Rate per Region\")\n",
    "plt.xlabel(\"Region\")\n",
    "plt.ylabel(\"Wastage Units\")"
   ]
  },
  {
   "cell_type": "markdown",
   "id": "8eb3bed0",
   "metadata": {},
   "source": [
    "##### Average price per product across all categories\n",
    "###### Discount performance"
   ]
  },
  {
   "cell_type": "code",
   "execution_count": 19,
   "id": "5a38589d",
   "metadata": {},
   "outputs": [
    {
     "name": "stdout",
     "output_type": "stream",
     "text": [
      "[0 1 2 3 4 5]\n"
     ]
    },
    {
     "name": "stderr",
     "output_type": "stream",
     "text": [
      "C:\\Users\\akann\\AppData\\Local\\Temp\\ipykernel_13204\\2291571071.py:7: FutureWarning: \n",
      "\n",
      "Passing `palette` without assigning `hue` is deprecated and will be removed in v0.14.0. Assign the `x` variable to `hue` and set `legend=False` for the same effect.\n",
      "\n",
      "  sns.barplot(x=price_per_product_category.index,\n"
     ]
    },
    {
     "data": {
      "text/plain": [
       "<matplotlib.legend.Legend at 0x229b3e3f4d0>"
      ]
     },
     "execution_count": 19,
     "metadata": {},
     "output_type": "execute_result"
    },
    {
     "data": {
      "image/png": "[encoded data removed]",
      "text/plain": [
       "<Figure size 1700x1500 with 2 Axes>"
      ]
     },
     "metadata": {},
     "output_type": "display_data"
    }
   ],
   "source": [
    "plt.figure(figsize=(17, 15))\n",
    "\n",
    "plt.subplot(2, 2, 1)\n",
    "# Average price product across all category\n",
    "category_price = weekly_sales.merge(product_detail, on='Product_ID')\n",
    "price_per_product_category = category_price.groupby('Product_Category')['Price'].mean()\n",
    "sns.barplot(x=price_per_product_category.index,\n",
    "            y=price_per_product_category.values,\n",
    "            palette=[\"blue\", \"green\", \"yellow\", \"red\"])\n",
    "plt.title(\"Average price per product category\")\n",
    "plt.xlabel(\"Product Category\")\n",
    "plt.ylabel(\"Average Price (£)\")\n",
    "plt.xticks(rotation=45)\n",
    "\n",
    "for i, (cat, val) in enumerate(zip(price_per_product_category.index, price_per_product_category.values)):\n",
    "    plt.text(i, val + 0.2, f\"£{val:.2f}\",\n",
    "             ha=\"center\", va=\"bottom\", fontweight=\"bold\", fontsize=9)\n",
    "    \n",
    "    \n",
    "# discount performance\n",
    "# sales performance by each discount percentage\n",
    "\n",
    "plt.subplot(2, 2, 2)\n",
    "discount_performance = weekly_sales.groupby(\"Discount_Percent\").agg({\n",
    "    'Units_Sold': 'mean',\n",
    "    'Wastage_Units': 'mean'\n",
    "}).reset_index()\n",
    "\n",
    "x = np.arange(len(discount_performance))\n",
    "print(x)\n",
    "width = 0.35\n",
    "\n",
    "bars1 = plt.bar(x - width/2, discount_performance['Units_Sold'], width, label='Units_Sold')\n",
    "bars2 = plt.bar(x + width/2, discount_performance['Wastage_Units'], width, label='Wastage Units')\n",
    "\n",
    "plt.title(\"Discount Performance\")\n",
    "plt.xlabel(\"Discount Percentage\")\n",
    "plt.ylabel(\"Average Units Solds\")\n",
    "plt.xticks(x, discount_performance['Discount_Percent'])\n",
    "plt.legend()\n",
    "\n"
   ]
  },
  {
   "cell_type": "markdown",
   "id": "672a7ac1",
   "metadata": {},
   "source": [
    "#### Sales Performance by Product Category - Comparison Bars"
   ]
  },
  {
   "cell_type": "code",
   "execution_count": 20,
   "id": "857914d9",
   "metadata": {},
   "outputs": [
    {
     "data": {
      "image/png": "[encoded data removed]",
      "text/plain": [
       "<Figure size 1400x1200 with 4 Axes>"
      ]
     },
     "metadata": {},
     "output_type": "display_data"
    }
   ],
   "source": [
    "# CATEGORY PERFORMANCE\n",
    "\n",
    "plt.figure(figsize=(14, 12))\n",
    "\n",
    "# Merge Sales with Product Details\n",
    "sales_with_categories = weekly_sales.merge(product_detail, on='Product_ID')\n",
    "\n",
    "# Calculate metrics by category\n",
    "category_metrics = sales_with_categories.groupby('Product_Category').agg({\n",
    "    'Units_Sold': 'sum',\n",
    "    'Price': 'mean',\n",
    "    'Wastage_Units': 'mean',\n",
    "    'Marketing_Spend': 'mean'\n",
    "}).reset_index()\n",
    "\n",
    "plt.subplot(2,2,1)\n",
    "plt.bar(category_metrics['Product_Category'], category_metrics['Units_Sold'], color='lightblue')\n",
    "plt.title('Total Units Sold by Product Category', fontsize=14, fontweight='bold')\n",
    "plt.xlabel('Product Category')\n",
    "plt.ylabel('Total Units Sold')\n",
    "plt.xticks(rotation=45)\n",
    "\n",
    "\n",
    "plt.subplot(2,2,2)\n",
    "plt.bar(category_metrics['Product_Category'], category_metrics['Wastage_Units'], color='salmon')\n",
    "plt.title('Total Wastage Units by Category', fontsize=14, fontweight='bold')\n",
    "plt.xlabel('Product Category')\n",
    "plt.ylabel('Wastage Units')\n",
    "plt.xticks(rotation=45)\n",
    "\n",
    "plt.subplot(2,2,3)\n",
    "# Wastage Rate calculation\n",
    "category_metrics['Wastage_Rate'] = category_metrics['Wastage_Units'] / category_metrics['Units_Sold'] * 100\n",
    "plt.bar(category_metrics['Product_Category'], category_metrics['Wastage_Rate'], color='orange')\n",
    "plt.title('Wastage Rate by Product Category (%)', fontsize=14, fontweight='bold')\n",
    "plt.xlabel('Product Category')\n",
    "plt.ylabel('Wastage Rate (%)')\n",
    "plt.xticks(rotation=45)\n",
    "\n",
    "\n",
    "# Average marketing funds spent on each product category\n",
    "plt.subplot(2,2,4)\n",
    "plt.bar(category_metrics['Product_Category'], category_metrics['Marketing_Spend'], color='lightgreen')\n",
    "plt.title('Average Marketing Spend by Category', fontsize=14, fontweight='bold')\n",
    "plt.xlabel('Product Category')\n",
    "plt.ylabel('Average Marketing Spend (£)')\n",
    "plt.xticks(rotation=45)\n",
    "\n",
    "plt.tight_layout()\n",
    "plt.show()"
   ]
  },
  {
   "cell_type": "code",
   "execution_count": 21,
   "id": "b52a7b81",
   "metadata": {},
   "outputs": [
    {
     "name": "stdout",
     "output_type": "stream",
     "text": [
      "Units Sold with 25% Discount: 2060812\n",
      "Units Sold with No Discount: 45269818\n",
      "Sales Lift at 25% Discount: -95.45%\n"
     ]
    }
   ],
   "source": [
    "# Compare sales at the best discount vs. no discount, and calculate the percentage sales lift\n",
    "discount_sales = weekly_sales[weekly_sales['Discount_Percent'] == 25]\n",
    "no_discount_sales = weekly_sales[weekly_sales['Discount_Percent'] == 0]\n",
    "\n",
    "discount_units_sold = discount_sales['Units_Sold'].sum()\n",
    "no_discount_units_sold = no_discount_sales['Units_Sold'].sum()\n",
    "\n",
    "# Calculate percentage lift\n",
    "sales_lift = ((discount_units_sold - no_discount_units_sold) / no_discount_units_sold) * 100\n",
    "\n",
    "print(f\"Units Sold with 25% Discount: {discount_units_sold}\")\n",
    "print(f\"Units Sold with No Discount: {no_discount_units_sold}\")\n",
    "print(f\"Sales Lift at 25% Discount: {sales_lift:.2f}%\")"
   ]
  },
  {
   "cell_type": "code",
   "execution_count": null,
   "id": "44421f41",
   "metadata": {},
   "outputs": [],
   "source": []
  },
  {
   "cell_type": "markdown",
   "id": "5e6ae718",
   "metadata": {},
   "source": [
    "#### BUSINESS INSIGHTS & STRATEGIC RECOMMENDATIONS"
   ]
  },
  {
   "cell_type": "markdown",
   "id": "f57dc485",
   "metadata": {},
   "source": [
    "##### 1. Overall Business Performance"
   ]
  },
  {
   "cell_type": "code",
   "execution_count": null,
   "id": "ac739c46",
   "metadata": {},
   "outputs": [
    {
     "name": "stdout",
     "output_type": "stream",
     "text": [
      "=== Overall Business Performance ===\n",
      "Total Units Sold: 61,482,249\n",
      "Total Wastage Units: 4,786,490\n",
      "Overall Wastage Rate: 7.79%\n",
      "\n",
      "Insight: Moderate wastage rate — potential for optimization in supply or shelf-life management.\n"
     ]
    }
   ],
   "source": [
    "# --- Overall Business Performance ---\n",
    "\n",
    "weekly_sales['Units_Sold'] = pd.to_numeric(weekly_sales['Units_Sold'], errors='coerce')\n",
    "weekly_sales['Wastage_Units'] = pd.to_numeric(weekly_sales['Wastage_Units'], errors='coerce')\n",
    "\n",
    "total_units_sold = weekly_sales['Units_Sold'].sum()\n",
    "total_wastage_units = weekly_sales['Wastage_Units'].sum()\n",
    "\n",
    "# Avoid divide-by-zero\n",
    "if total_units_sold != 0:\n",
    "    overall_wastage_rate = (total_wastage_units / total_units_sold) * 100\n",
    "else:\n",
    "    overall_wastage_rate = 0\n",
    "\n",
    "print(\"=== Overall Business Performance ===\")\n",
    "print(f\"Total Units Sold: {total_units_sold:,.0f}\")\n",
    "print(f\"Total Wastage Units: {total_wastage_units:,.0f}\")\n",
    "print(f\"Overall Wastage Rate: {overall_wastage_rate:.2f}%\")\n",
    "\n",
    "# Insight summary\n",
    "if overall_wastage_rate < 5:\n",
    "    print(\"\\nInsight: Excellent performance — minimal product loss relative to sales volume.\")\n",
    "elif overall_wastage_rate < 10:\n",
    "    print(\"\\nInsight: Moderate wastage rate — potential for optimization in supply or shelf-life management.\")\n",
    "else:\n",
    "    print(\"\\nInsight: High wastage rate detected — indicates overstocking or poor demand forecasting.\")\n"
   ]
  },
  {
   "cell_type": "markdown",
   "id": "09f14a59",
   "metadata": {},
   "source": [
    "The overall business performance analysis reveals that FrostMart achieved a total of 61,482,249 units sold during the reporting period. Across all stores and product categories, a total of 4,786,490 units were recorded as wastage, resulting in an overall wastage rate of approximately 7.79%.\n",
    "\n",
    "This moderate level of wastage suggests that while the business maintains strong sales performance, there is still room for improvement in inventory management and perishable product handling. The current wastage level indicates potential inefficiencies in areas such as demand forecasting, supply planning, or shelf-life management.\n",
    "\n",
    "From a strategic standpoint, FrostMart could benefit from:\n",
    "\n",
    "- Reviewing stock replenishment cycles to minimize overstocking of short-shelf-life items.\n",
    "\n",
    "- Implementing data-driven forecasting models that incorporate weather and seasonal demand factors.\n",
    "\n",
    "- Enhancing cold-storage utilization and supplier coordination to reduce spoilage and maintain freshness.\n",
    "\n",
    "If the company successfully reduces wastage even by 2–3 percentage points, it could realize significant savings in operational costs while improving sustainability performance."
   ]
  },
  {
   "cell_type": "markdown",
   "id": "3b63110b",
   "metadata": {},
   "source": [
    "##### 2. Category Performance"
   ]
  },
  {
   "cell_type": "code",
   "execution_count": 31,
   "id": "e5358375",
   "metadata": {},
   "outputs": [
    {
     "name": "stdout",
     "output_type": "stream",
     "text": [
      "=== Category Performance Summary ===\n",
      "  Product_Category  Total_Units_Sold  Total_Wastage  Average_Price  \\\n",
      "2            Dairy          24514345        1204579       2.828795   \n",
      "0           Bakery          17802002        2622079       2.412673   \n",
      "1        Beverages          12221362         300994       4.132543   \n",
      "3             Meat           6944540         658838       7.274323   \n",
      "\n",
      "   Wastage_Rate(%)  \n",
      "2             4.91  \n",
      "0            14.73  \n",
      "1             2.46  \n",
      "3             9.49  \n",
      "\n",
      "=== Key Findings ===\n",
      "Highest Sales Category: Dairy\n",
      "Highest Wastage Rate Category: Bakery\n",
      "Highest Average Price Category: Meat\n"
     ]
    }
   ],
   "source": [
    "# Merge Sales with Product Details\n",
    "sales_with_categories = weekly_sales.merge(product_detail, on='Product_ID')\n",
    "\n",
    "# Ensure numeric types\n",
    "sales_with_categories['Units_Sold'] = pd.to_numeric(sales_with_categories['Units_Sold'], errors='coerce')\n",
    "sales_with_categories['Wastage_Units'] = pd.to_numeric(sales_with_categories['Wastage_Units'], errors='coerce')\n",
    "sales_with_categories['Price'] = pd.to_numeric(sales_with_categories['Price'], errors='coerce')\n",
    "\n",
    "# Group by Product_Category\n",
    "category_summary = sales_with_categories.groupby('Product_Category').agg(\n",
    "    Total_Units_Sold=('Units_Sold', 'sum'),\n",
    "    Total_Wastage=('Wastage_Units', 'sum'),\n",
    "    Average_Price=('Price', 'mean')\n",
    ").reset_index()\n",
    "\n",
    "# Calculate wastage rate (%)\n",
    "category_summary['Wastage_Rate(%)'] = (\n",
    "    category_summary['Total_Wastage'] / category_summary['Total_Units_Sold'] * 100\n",
    ").round(2)\n",
    "\n",
    "# Key categories\n",
    "highest_sales_category = category_summary.loc[category_summary['Total_Units_Sold'].idxmax(), 'Product_Category']\n",
    "highest_wastage_category = category_summary.loc[category_summary['Wastage_Rate(%)'].idxmax(), 'Product_Category']\n",
    "highest_avg_price_category = category_summary.loc[category_summary['Average_Price'].idxmax(), 'Product_Category']\n",
    "\n",
    "# Display results\n",
    "print(\"=== Category Performance Summary ===\")\n",
    "print(category_summary.sort_values('Total_Units_Sold', ascending=False))\n",
    "\n",
    "print(\"\\n=== Key Findings ===\")\n",
    "print(f\"Highest Sales Category: {highest_sales_category}\")\n",
    "print(f\"Highest Wastage Rate Category: {highest_wastage_category}\")\n",
    "print(f\"Highest Average Price Category: {highest_avg_price_category}\")\n"
   ]
  },
  {
   "cell_type": "code",
   "execution_count": 32,
   "id": "90db7dc3",
   "metadata": {},
   "outputs": [
    {
     "data": {
      "image/png": "[encoded data removed]",
      "text/plain": [
       "<Figure size 1800x500 with 3 Axes>"
      ]
     },
     "metadata": {},
     "output_type": "display_data"
    }
   ],
   "source": [
    "# Sort categories for consistent plotting\n",
    "category_summary_sorted = category_summary.sort_values('Total_Units_Sold', ascending=False)\n",
    "\n",
    "fig, axes = plt.subplots(1, 3, figsize=(18, 5))\n",
    "\n",
    "# 1️⃣ Total Units Sold\n",
    "axes[0].bar(category_summary_sorted['Product_Category'], category_summary_sorted['Total_Units_Sold'], color='skyblue')\n",
    "axes[0].set_title('Total Units Sold by Category')\n",
    "axes[0].set_ylabel('Units Sold')\n",
    "axes[0].tick_params(axis='x', rotation=45)\n",
    "\n",
    "# 2️⃣ Wastage Rate (%)\n",
    "axes[1].bar(category_summary_sorted['Product_Category'], category_summary_sorted['Wastage_Rate(%)'], color='salmon')\n",
    "axes[1].set_title('Wastage Rate (%) by Category')\n",
    "axes[1].set_ylabel('Wastage Rate (%)')\n",
    "axes[1].tick_params(axis='x', rotation=45)\n",
    "\n",
    "# 3️⃣ Average Price\n",
    "axes[2].bar(category_summary_sorted['Product_Category'], category_summary_sorted['Average_Price'], color='lightgreen')\n",
    "axes[2].set_title('Average Price by Category')\n",
    "axes[2].set_ylabel('Average Price (£)')\n",
    "axes[2].tick_params(axis='x', rotation=45)\n",
    "\n",
    "plt.tight_layout()\n",
    "plt.show()\n"
   ]
  },
  {
   "cell_type": "markdown",
   "id": "c474e11f",
   "metadata": {},
   "source": [
    "##### 3. Regional Performance"
   ]
  },
  {
   "cell_type": "code",
   "execution_count": null,
   "id": "ba46908b",
   "metadata": {},
   "outputs": [],
   "source": []
  },
  {
   "cell_type": "code",
   "execution_count": null,
   "id": "5631d7f5",
   "metadata": {},
   "outputs": [],
   "source": []
  },
  {
   "cell_type": "code",
   "execution_count": null,
   "id": "7adf8ebb",
   "metadata": {},
   "outputs": [],
   "source": []
  },
  {
   "cell_type": "code",
   "execution_count": null,
   "id": "26ebdd9a",
   "metadata": {},
   "outputs": [],
   "source": []
  },
  {
   "cell_type": "code",
   "execution_count": null,
   "id": "5895d812",
   "metadata": {},
   "outputs": [],
   "source": []
  },
  {
   "cell_type": "code",
   "execution_count": null,
   "id": "56dd89f3",
   "metadata": {},
   "outputs": [],
   "source": []
  }
 ],
 "metadata": {
  "kernelspec": {
   "display_name": "myenv",
   "language": "python",
   "name": "python3"
  },
  "language_info": {
   "codemirror_mode": {
    "name": "ipython",
    "version": 3
   },
   "file_extension": ".py",
   "mimetype": "text/x-python",
   "name": "python",
   "nbconvert_exporter": "python",
   "pygments_lexer": "ipython3",
   "version": "3.13.7"
  }
 },
 "nbformat": 4,
 "nbformat_minor": 5
}
